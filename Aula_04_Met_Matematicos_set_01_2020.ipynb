{
  "nbformat": 4,
  "nbformat_minor": 0,
  "metadata": {
    "colab": {
      "name": "Aula_04_Met_Matematicos_set_01_2020.ipynb",
      "provenance": [],
      "authorship_tag": "ABX9TyOlu+OiZCIbgzbF+ZeZtnWF",
      "include_colab_link": true
    },
    "kernelspec": {
      "name": "python3",
      "display_name": "Python 3"
    }
  },
  "cells": [
    {
      "cell_type": "markdown",
      "metadata": {
        "id": "view-in-github",
        "colab_type": "text"
      },
      "source": [
        "<a href=\"https://colab.research.google.com/github/ucfilho/Disciplina_Metodos_Numericos_2020/blob/master/Aula_04_Met_Matematicos_set_01_2020.ipynb\" target=\"_parent\"><img src=\"https://colab.research.google.com/assets/colab-badge.svg\" alt=\"Open In Colab\"/></a>"
      ]
    },
    {
      "cell_type": "code",
      "metadata": {
        "id": "cNPf8E-OtQao",
        "colab_type": "code",
        "colab": {}
      },
      "source": [
        "import numpy as np"
      ],
      "execution_count": 1,
      "outputs": []
    },
    {
      "cell_type": "code",
      "metadata": {
        "id": "Bj6dZBfMurS-",
        "colab_type": "code",
        "colab": {}
      },
      "source": [
        "A = np.array([[0.9 ,0.3 ,0.1] ,[0.1 ,0.5 ,0.2] , [0.0 ,0.2 ,0.7]])\n",
        "b = np.array([30.0 ,25.0 ,10.0])"
      ],
      "execution_count": 2,
      "outputs": []
    },
    {
      "cell_type": "code",
      "metadata": {
        "id": "dTcI0XXgvCKZ",
        "colab_type": "code",
        "colab": {
          "base_uri": "https://localhost:8080/",
          "height": 35
        },
        "outputId": "b8d95c76-27dc-4d03-b157-15ee149da3e9"
      },
      "source": [
        "# \"Never invert a matrix explicitly unless your life depends on it...\"\n",
        "y = np.linalg.inv(A)\n",
        "sol = np.dot(y,b)\n",
        "print(sol)"
      ],
      "execution_count": 3,
      "outputs": [
        {
          "output_type": "stream",
          "text": [
            "[17.88461538 45.96153846  1.15384615]\n"
          ],
          "name": "stdout"
        }
      ]
    },
    {
      "cell_type": "code",
      "metadata": {
        "id": "V8RBMAZUvPC_",
        "colab_type": "code",
        "colab": {
          "base_uri": "https://localhost:8080/",
          "height": 35
        },
        "outputId": "ebdba1a8-7aba-4f1a-d677-f7b82cd73e88"
      },
      "source": [
        "w = np.linalg.pinv(A)\n",
        "sol = np.dot(w,b)\n",
        "print(sol)"
      ],
      "execution_count": 4,
      "outputs": [
        {
          "output_type": "stream",
          "text": [
            "[17.88461538 45.96153846  1.15384615]\n"
          ],
          "name": "stdout"
        }
      ]
    },
    {
      "cell_type": "code",
      "metadata": {
        "id": "RR-7QO38v2-t",
        "colab_type": "code",
        "colab": {}
      },
      "source": [
        "# https://mathworld.wolfram.com/Moore-PenroseMatrixInverse.html"
      ],
      "execution_count": null,
      "outputs": []
    },
    {
      "cell_type": "code",
      "metadata": {
        "id": "Nta8bjOlws8P",
        "colab_type": "code",
        "colab": {
          "base_uri": "https://localhost:8080/",
          "height": 69
        },
        "outputId": "633cde38-d22d-407e-d223-db90b0f7e0d6"
      },
      "source": [
        "print(A)"
      ],
      "execution_count": 7,
      "outputs": [
        {
          "output_type": "stream",
          "text": [
            "[[0.9 0.3 0.1]\n",
            " [0.1 0.5 0.2]\n",
            " [0.  0.2 0.7]]\n"
          ],
          "name": "stdout"
        }
      ]
    },
    {
      "cell_type": "code",
      "metadata": {
        "id": "CesHvmGDwefH",
        "colab_type": "code",
        "colab": {
          "base_uri": "https://localhost:8080/",
          "height": 35
        },
        "outputId": "318451e7-8b46-4afd-f335-b2b4e1367640"
      },
      "source": [
        "print(A[:,1])"
      ],
      "execution_count": 5,
      "outputs": [
        {
          "output_type": "stream",
          "text": [
            "[0.3 0.5 0.2]\n"
          ],
          "name": "stdout"
        }
      ]
    },
    {
      "cell_type": "code",
      "metadata": {
        "id": "0GRjk_u1wk8X",
        "colab_type": "code",
        "colab": {
          "base_uri": "https://localhost:8080/",
          "height": 35
        },
        "outputId": "0718a575-8fa7-4be0-b28c-29aaef9136a3"
      },
      "source": [
        "print(A[1,:])"
      ],
      "execution_count": 6,
      "outputs": [
        {
          "output_type": "stream",
          "text": [
            "[0.1 0.5 0.2]\n"
          ],
          "name": "stdout"
        }
      ]
    },
    {
      "cell_type": "code",
      "metadata": {
        "id": "tCJMIRNXwxst",
        "colab_type": "code",
        "colab": {
          "base_uri": "https://localhost:8080/",
          "height": 35
        },
        "outputId": "918a6f24-dfea-4b15-dc47-68f44dd2ef15"
      },
      "source": [
        "print(A[:,-1])"
      ],
      "execution_count": 8,
      "outputs": [
        {
          "output_type": "stream",
          "text": [
            "[0.1 0.2 0.7]\n"
          ],
          "name": "stdout"
        }
      ]
    },
    {
      "cell_type": "code",
      "metadata": {
        "id": "lOXZWvVkw8eb",
        "colab_type": "code",
        "colab": {
          "base_uri": "https://localhost:8080/",
          "height": 69
        },
        "outputId": "201d48d2-801c-467d-add9-5a9cef947745"
      },
      "source": [
        "print(A[:,:-1])"
      ],
      "execution_count": 10,
      "outputs": [
        {
          "output_type": "stream",
          "text": [
            "[[0.9 0.3]\n",
            " [0.1 0.5]\n",
            " [0.  0.2]]\n"
          ],
          "name": "stdout"
        }
      ]
    }
  ]
}