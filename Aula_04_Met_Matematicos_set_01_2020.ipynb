{
  "nbformat": 4,
  "nbformat_minor": 0,
  "metadata": {
    "colab": {
      "name": "Aula_04_Met_Matematicos_set_01_2020.ipynb",
      "provenance": [],
      "authorship_tag": "ABX9TyOniBC4eqI1a4uKf18LWuC3",
      "include_colab_link": true
    },
    "kernelspec": {
      "name": "python3",
      "display_name": "Python 3"
    }
  },
  "cells": [
    {
      "cell_type": "markdown",
      "metadata": {
        "id": "view-in-github",
        "colab_type": "text"
      },
      "source": [
        "<a href=\"https://colab.research.google.com/github/ucfilho/Disciplina_Metodos_Numericos_2020/blob/master/Aula_04_Met_Matematicos_set_01_2020.ipynb\" target=\"_parent\"><img src=\"https://colab.research.google.com/assets/colab-badge.svg\" alt=\"Open In Colab\"/></a>"
      ]
    },
    {
      "cell_type": "code",
      "metadata": {
        "id": "cNPf8E-OtQao",
        "colab_type": "code",
        "colab": {}
      },
      "source": [
        "import numpy as np"
      ],
      "execution_count": 1,
      "outputs": []
    },
    {
      "cell_type": "code",
      "metadata": {
        "id": "Bj6dZBfMurS-",
        "colab_type": "code",
        "colab": {}
      },
      "source": [
        "A = np.array([[0.9 ,0.3 ,0.1] ,[0.1 ,0.5 ,0.2] , [0.0 ,0.2 ,0.7]])\n",
        "b = np.array([30.0 ,25.0 ,10.0])"
      ],
      "execution_count": 2,
      "outputs": []
    },
    {
      "cell_type": "code",
      "metadata": {
        "id": "dTcI0XXgvCKZ",
        "colab_type": "code",
        "colab": {
          "base_uri": "https://localhost:8080/",
          "height": 35
        },
        "outputId": "b8d95c76-27dc-4d03-b157-15ee149da3e9"
      },
      "source": [
        "# \"Never invert a matrix explicitly unless your life depends on it...\"\n",
        "y = np.linalg.inv(A)\n",
        "sol = np.dot(y,b)\n",
        "print(sol)"
      ],
      "execution_count": 3,
      "outputs": [
        {
          "output_type": "stream",
          "text": [
            "[17.88461538 45.96153846  1.15384615]\n"
          ],
          "name": "stdout"
        }
      ]
    },
    {
      "cell_type": "code",
      "metadata": {
        "id": "V8RBMAZUvPC_",
        "colab_type": "code",
        "colab": {
          "base_uri": "https://localhost:8080/",
          "height": 35
        },
        "outputId": "ebdba1a8-7aba-4f1a-d677-f7b82cd73e88"
      },
      "source": [
        "w = np.linalg.pinv(A)\n",
        "sol = np.dot(w,b)\n",
        "print(sol)"
      ],
      "execution_count": 4,
      "outputs": [
        {
          "output_type": "stream",
          "text": [
            "[17.88461538 45.96153846  1.15384615]\n"
          ],
          "name": "stdout"
        }
      ]
    },
    {
      "cell_type": "code",
      "metadata": {
        "id": "RR-7QO38v2-t",
        "colab_type": "code",
        "colab": {}
      },
      "source": [
        "# https://mathworld.wolfram.com/Moore-PenroseMatrixInverse.html"
      ],
      "execution_count": null,
      "outputs": []
    }
  ]
}