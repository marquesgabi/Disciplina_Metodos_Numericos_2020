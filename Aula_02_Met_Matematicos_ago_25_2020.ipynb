{
  "nbformat": 4,
  "nbformat_minor": 0,
  "metadata": {
    "colab": {
      "name": "Aula_02_Met_Matematicos_ago_25_2020.ipynb",
      "provenance": [],
      "collapsed_sections": [],
      "authorship_tag": "ABX9TyMjT9uX1O0fT9VlVCEFfTKM",
      "include_colab_link": true
    },
    "kernelspec": {
      "name": "python3",
      "display_name": "Python 3"
    }
  },
  "cells": [
    {
      "cell_type": "markdown",
      "metadata": {
        "id": "view-in-github",
        "colab_type": "text"
      },
      "source": [
        "<a href=\"https://colab.research.google.com/github/ucfilho/Disciplina_Metodos_Numericos_2020/blob/master/Aula_02_Met_Matematicos_ago_25_2020.ipynb\" target=\"_parent\"><img src=\"https://colab.research.google.com/assets/colab-badge.svg\" alt=\"Open In Colab\"/></a>"
      ]
    },
    {
      "cell_type": "code",
      "metadata": {
        "id": "mBJKTPUF4pos",
        "colab_type": "code",
        "colab": {
          "base_uri": "https://localhost:8080/",
          "height": 52
        },
        "outputId": "30ac38e9-84f3-4ff4-9442-5452633f2c1a"
      },
      "source": [
        "# testando primeiros\n",
        "print('Hello world')\n",
        "print('Hello world, I am evolving')"
      ],
      "execution_count": 1,
      "outputs": [
        {
          "output_type": "stream",
          "text": [
            "Hello world\n",
            "Hello world, I am evolving\n"
          ],
          "name": "stdout"
        }
      ]
    },
    {
      "cell_type": "markdown",
      "metadata": {
        "id": "0KWGA4YN7Ywb",
        "colab_type": "text"
      },
      "source": [
        "$x=\\frac{a}{b}$"
      ]
    },
    {
      "cell_type": "code",
      "metadata": {
        "id": "h63k4K197gyH",
        "colab_type": "code",
        "colab": {
          "base_uri": "https://localhost:8080/",
          "height": 156
        },
        "outputId": "71bcce08-6670-4177-b8d6-e3c0e7643caa"
      },
      "source": [
        "for k in range(2):\n",
        "  for i in range(2):\n",
        "    for j in range(2):\n",
        "      print('k=',k,'i=',i,'j=',j)"
      ],
      "execution_count": 2,
      "outputs": [
        {
          "output_type": "stream",
          "text": [
            "k= 0 i= 0 j= 0\n",
            "k= 0 i= 0 j= 1\n",
            "k= 0 i= 1 j= 0\n",
            "k= 0 i= 1 j= 1\n",
            "k= 1 i= 0 j= 0\n",
            "k= 1 i= 0 j= 1\n",
            "k= 1 i= 1 j= 0\n",
            "k= 1 i= 1 j= 1\n"
          ],
          "name": "stdout"
        }
      ]
    },
    {
      "cell_type": "code",
      "metadata": {
        "id": "g54p-HBN-GJZ",
        "colab_type": "code",
        "colab": {
          "base_uri": "https://localhost:8080/",
          "height": 191
        },
        "outputId": "e3747107-cd7d-4551-c606-f2d75d720b22"
      },
      "source": [
        "for k in range(2):\n",
        "  for i in range(2):\n",
        "    for j in range(2):\n",
        "      print('k=',k,'i=',i,'j=',j)\n",
        "  print('===================')"
      ],
      "execution_count": 3,
      "outputs": [
        {
          "output_type": "stream",
          "text": [
            "k= 0 i= 0 j= 0\n",
            "k= 0 i= 0 j= 1\n",
            "k= 0 i= 1 j= 0\n",
            "k= 0 i= 1 j= 1\n",
            "===================\n",
            "k= 1 i= 0 j= 0\n",
            "k= 1 i= 0 j= 1\n",
            "k= 1 i= 1 j= 0\n",
            "k= 1 i= 1 j= 1\n",
            "===================\n"
          ],
          "name": "stdout"
        }
      ]
    },
    {
      "cell_type": "code",
      "metadata": {
        "id": "5i8F-eTs_q0D",
        "colab_type": "code",
        "colab": {
          "base_uri": "https://localhost:8080/",
          "height": 35
        },
        "outputId": "f521334f-d7e2-4166-ece3-d50a35cfcc98"
      },
      "source": [
        "x=[] # lista exemplo\n",
        "for i in range(5):\n",
        "  x.append(i)\n",
        "print(x)"
      ],
      "execution_count": 4,
      "outputs": [
        {
          "output_type": "stream",
          "text": [
            "[0, 1, 2, 3, 4]\n"
          ],
          "name": "stdout"
        }
      ]
    },
    {
      "cell_type": "code",
      "metadata": {
        "id": "lz_1KLxuAnu-",
        "colab_type": "code",
        "colab": {
          "base_uri": "https://localhost:8080/",
          "height": 35
        },
        "outputId": "1598ff43-6283-47aa-8cd5-76190f01e5ac"
      },
      "source": [
        "x=[] # lista exemplo\n",
        "w=[]\n",
        "for i in range(3):\n",
        "  for j in range(3):\n",
        "    x.append(j)\n",
        "  w.append(x)\n",
        "print(w)"
      ],
      "execution_count": 5,
      "outputs": [
        {
          "output_type": "stream",
          "text": [
            "[[0, 1, 2, 0, 1, 2, 0, 1, 2], [0, 1, 2, 0, 1, 2, 0, 1, 2], [0, 1, 2, 0, 1, 2, 0, 1, 2]]\n"
          ],
          "name": "stdout"
        }
      ]
    },
    {
      "cell_type": "code",
      "metadata": {
        "id": "3A79AnQ4BUCL",
        "colab_type": "code",
        "colab": {
          "base_uri": "https://localhost:8080/",
          "height": 35
        },
        "outputId": "743b78de-8411-4cb6-8b8c-4a6137184565"
      },
      "source": [
        " # lista exemplo\n",
        "y=[]\n",
        "for i in range(3):\n",
        "  x=[]\n",
        "  for j in range(3):\n",
        "    x.append(j)\n",
        "  y.append(x)\n",
        "print(y)"
      ],
      "execution_count": 6,
      "outputs": [
        {
          "output_type": "stream",
          "text": [
            "[[0, 1, 2], [0, 1, 2], [0, 1, 2]]\n"
          ],
          "name": "stdout"
        }
      ]
    },
    {
      "cell_type": "code",
      "metadata": {
        "id": "5BZ6zVjqCoEN",
        "colab_type": "code",
        "colab": {
          "base_uri": "https://localhost:8080/",
          "height": 35
        },
        "outputId": "b86c1ca7-9bba-48b0-87d4-a54af01ea467"
      },
      "source": [
        "print(y)"
      ],
      "execution_count": 7,
      "outputs": [
        {
          "output_type": "stream",
          "text": [
            "[[0, 1, 2], [0, 1, 2], [0, 1, 2]]\n"
          ],
          "name": "stdout"
        }
      ]
    },
    {
      "cell_type": "code",
      "metadata": {
        "id": "bxkxWd5gDlkf",
        "colab_type": "code",
        "colab": {}
      },
      "source": [
        "import pandas as pd\n",
        "import numpy as np"
      ],
      "execution_count": 8,
      "outputs": []
    },
    {
      "cell_type": "code",
      "metadata": {
        "id": "YDZWYHOeDvU2",
        "colab_type": "code",
        "colab": {
          "base_uri": "https://localhost:8080/",
          "height": 87
        },
        "outputId": "b42c1bc9-4b93-49b1-8cd3-8e8675a3bd75"
      },
      "source": [
        "df=pd.DataFrame(y)\n",
        "print(df)"
      ],
      "execution_count": 9,
      "outputs": [
        {
          "output_type": "stream",
          "text": [
            "   0  1  2\n",
            "0  0  1  2\n",
            "1  0  1  2\n",
            "2  0  1  2\n"
          ],
          "name": "stdout"
        }
      ]
    },
    {
      "cell_type": "code",
      "metadata": {
        "id": "sPFg4m-AEt0m",
        "colab_type": "code",
        "colab": {
          "base_uri": "https://localhost:8080/",
          "height": 69
        },
        "outputId": "b13f5891-0beb-4ddd-e9f9-a0b225dc7066"
      },
      "source": [
        "mat=np.array(y)\n",
        "print(mat)"
      ],
      "execution_count": 10,
      "outputs": [
        {
          "output_type": "stream",
          "text": [
            "[[0 1 2]\n",
            " [0 1 2]\n",
            " [0 1 2]]\n"
          ],
          "name": "stdout"
        }
      ]
    },
    {
      "cell_type": "code",
      "metadata": {
        "id": "cIpqO10_FRcw",
        "colab_type": "code",
        "colab": {
          "base_uri": "https://localhost:8080/",
          "height": 69
        },
        "outputId": "852d012d-2ffe-4463-fed1-3f8b011f68e0"
      },
      "source": [
        "mat[0,1]=99\n",
        "print(mat)"
      ],
      "execution_count": 11,
      "outputs": [
        {
          "output_type": "stream",
          "text": [
            "[[ 0 99  2]\n",
            " [ 0  1  2]\n",
            " [ 0  1  2]]\n"
          ],
          "name": "stdout"
        }
      ]
    },
    {
      "cell_type": "code",
      "metadata": {
        "id": "Drm-hW-HFrxR",
        "colab_type": "code",
        "colab": {
          "base_uri": "https://localhost:8080/",
          "height": 35
        },
        "outputId": "18dc5049-737d-494d-9b4e-17d6b8601001"
      },
      "source": [
        "print(mat[0,:])"
      ],
      "execution_count": 12,
      "outputs": [
        {
          "output_type": "stream",
          "text": [
            "[ 0 99  2]\n"
          ],
          "name": "stdout"
        }
      ]
    },
    {
      "cell_type": "code",
      "metadata": {
        "id": "CVavEtoiF2xD",
        "colab_type": "code",
        "colab": {
          "base_uri": "https://localhost:8080/",
          "height": 35
        },
        "outputId": "fff329a1-2d83-4ce7-892f-311e101a16ba"
      },
      "source": [
        "print(mat[:,0])"
      ],
      "execution_count": 13,
      "outputs": [
        {
          "output_type": "stream",
          "text": [
            "[0 0 0]\n"
          ],
          "name": "stdout"
        }
      ]
    },
    {
      "cell_type": "code",
      "metadata": {
        "id": "YBHx9gcYGHP-",
        "colab_type": "code",
        "colab": {}
      },
      "source": [
        "# Recaptulando\n",
        "# 1-tem o formato lista\n",
        "# 2-tem o formato numpy array\n",
        "# 3- tem o formato dataframe\n",
        "# 4- indice começa no zero\n",
        "# 5- tem varias situações que é possível converter formato"
      ],
      "execution_count": 14,
      "outputs": []
    },
    {
      "cell_type": "code",
      "metadata": {
        "id": "gpOCWkqvmSNl",
        "colab_type": "code",
        "colab": {
          "base_uri": "https://localhost:8080/",
          "height": 35
        },
        "outputId": "b5ee6b2e-156a-4bff-a02a-4984f0420e1c"
      },
      "source": [
        " n=5\n",
        " # lista exemplo\n",
        "y=[]\n",
        "for i in range(n):\n",
        "  x=[]\n",
        "  for j in range(n):\n",
        "    x.append(j)\n",
        "  y.append(x)\n",
        "print(y)"
      ],
      "execution_count": 16,
      "outputs": [
        {
          "output_type": "stream",
          "text": [
            "[[0, 1, 2, 3, 4], [0, 1, 2, 3, 4], [0, 1, 2, 3, 4], [0, 1, 2, 3, 4], [0, 1, 2, 3, 4]]\n"
          ],
          "name": "stdout"
        }
      ]
    },
    {
      "cell_type": "code",
      "metadata": {
        "id": "HkakszminrTT",
        "colab_type": "code",
        "colab": {}
      },
      "source": [
        "def Lista(nn):\n",
        "  y=[]\n",
        "  for i in range(nn):\n",
        "    x=[]\n",
        "    for j in range(nn):\n",
        "      x.append(j)\n",
        "    y.append(x)\n",
        "  return y\n"
      ],
      "execution_count": 17,
      "outputs": []
    },
    {
      "cell_type": "code",
      "metadata": {
        "id": "kKI7c9gtocsj",
        "colab_type": "code",
        "colab": {
          "base_uri": "https://localhost:8080/",
          "height": 55
        },
        "outputId": "bbba7a2f-2eb4-4d0d-b2d8-e6868e21b804"
      },
      "source": [
        "w=Lista(6)\n",
        "print(w)"
      ],
      "execution_count": 19,
      "outputs": [
        {
          "output_type": "stream",
          "text": [
            "[[0, 1, 2, 3, 4, 5], [0, 1, 2, 3, 4, 5], [0, 1, 2, 3, 4, 5], [0, 1, 2, 3, 4, 5], [0, 1, 2, 3, 4, 5], [0, 1, 2, 3, 4, 5]]\n"
          ],
          "name": "stdout"
        }
      ]
    }
  ]
}