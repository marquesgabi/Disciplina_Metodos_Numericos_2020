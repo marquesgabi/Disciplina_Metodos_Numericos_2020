{
  "nbformat": 4,
  "nbformat_minor": 0,
  "metadata": {
    "colab": {
      "name": "Aula_01_Met_Matematicos_ago_18_2020.ipynb",
      "provenance": [],
      "collapsed_sections": [],
      "include_colab_link": true
    },
    "kernelspec": {
      "name": "python3",
      "display_name": "Python 3"
    }
  },
  "cells": [
    {
      "cell_type": "markdown",
      "metadata": {
        "id": "view-in-github",
        "colab_type": "text"
      },
      "source": [
        "<a href=\"https://colab.research.google.com/github/marquesgabi/Disciplina_Metodos_Numericos_2020/blob/master/Aula_02_Met_Matematicos_ago_25_2020.ipynb\" target=\"_parent\"><img src=\"https://colab.research.google.com/assets/colab-badge.svg\" alt=\"Open In Colab\"/></a>"
      ]
    },
    {
      "cell_type": "code",
      "metadata": {
        "id": "mBJKTPUF4pos",
        "colab_type": "code",
        "colab": {
          "base_uri": "https://localhost:8080/",
          "height": 50
        },
        "outputId": "9aa6f7fd-dd4f-480a-df0d-598c0cfa8b1f"
      },
      "source": [
        "# testando primeiros\n",
        "print('Hello world')\n",
        "print('Hello world, I am evolving')"
      ],
      "execution_count": 1,
      "outputs": [
        {
          "output_type": "stream",
          "text": [
            "Hello world\n",
            "Hello world, I am evolving\n"
          ],
          "name": "stdout"
        }
      ]
    },
    {
      "cell_type": "markdown",
      "metadata": {
        "id": "0KWGA4YN7Ywb",
        "colab_type": "text"
      },
      "source": [
        "$x=\\frac{a}{b}$"
      ]
    },
    {
      "cell_type": "code",
      "metadata": {
        "id": "h63k4K197gyH",
        "colab_type": "code",
        "colab": {
          "base_uri": "https://localhost:8080/",
          "height": 150
        },
        "outputId": "7f1f40e1-c7e0-47cd-c9a0-2a2bc3c073fe"
      },
      "source": [
        "for k in range(2):\n",
        "  for i in range(2):\n",
        "    for j in range(2):\n",
        "      print('k=',k,'i=',i,'j=',j)"
      ],
      "execution_count": 2,
      "outputs": [
        {
          "output_type": "stream",
          "text": [
            "k= 0 i= 0 j= 0\n",
            "k= 0 i= 0 j= 1\n",
            "k= 0 i= 1 j= 0\n",
            "k= 0 i= 1 j= 1\n",
            "k= 1 i= 0 j= 0\n",
            "k= 1 i= 0 j= 1\n",
            "k= 1 i= 1 j= 0\n",
            "k= 1 i= 1 j= 1\n"
          ],
          "name": "stdout"
        }
      ]
    },
    {
      "cell_type": "code",
      "metadata": {
        "id": "g54p-HBN-GJZ",
        "colab_type": "code",
        "colab": {
          "base_uri": "https://localhost:8080/",
          "height": 183
        },
        "outputId": "b26c06eb-bf2c-41c5-b359-d7f5d20a57fc"
      },
      "source": [
        "for k in range(2):\n",
        "  for i in range(2):\n",
        "    for j in range(2):\n",
        "      print('k=',k,'i=',i,'j=',j)\n",
        "  print('===================')"
      ],
      "execution_count": 3,
      "outputs": [
        {
          "output_type": "stream",
          "text": [
            "k= 0 i= 0 j= 0\n",
            "k= 0 i= 0 j= 1\n",
            "k= 0 i= 1 j= 0\n",
            "k= 0 i= 1 j= 1\n",
            "===================\n",
            "k= 1 i= 0 j= 0\n",
            "k= 1 i= 0 j= 1\n",
            "k= 1 i= 1 j= 0\n",
            "k= 1 i= 1 j= 1\n",
            "===================\n"
          ],
          "name": "stdout"
        }
      ]
    },
    {
      "cell_type": "code",
      "metadata": {
        "id": "5i8F-eTs_q0D",
        "colab_type": "code",
        "colab": {
          "base_uri": "https://localhost:8080/",
          "height": 33
        },
        "outputId": "7ab97a63-04a9-4f58-c136-9ebee5d623e6"
      },
      "source": [
        "x=[] # lista exemplo\n",
        "for i in range(5):\n",
        "  x.append(i)\n",
        "print(x)"
      ],
      "execution_count": 4,
      "outputs": [
        {
          "output_type": "stream",
          "text": [
            "[0, 1, 2, 3, 4]\n"
          ],
          "name": "stdout"
        }
      ]
    },
    {
      "cell_type": "code",
      "metadata": {
        "id": "lz_1KLxuAnu-",
        "colab_type": "code",
        "colab": {
          "base_uri": "https://localhost:8080/",
          "height": 33
        },
        "outputId": "cc6cc277-94dc-4d71-f1dd-f280a5743658"
      },
      "source": [
        "x=[] # lista exemplo\n",
        "w=[]\n",
        "for i in range(3):\n",
        "  for j in range(3):\n",
        "    x.append(j)\n",
        "  w.append(x)\n",
        "print(w)"
      ],
      "execution_count": 5,
      "outputs": [
        {
          "output_type": "stream",
          "text": [
            "[[0, 1, 2, 0, 1, 2, 0, 1, 2], [0, 1, 2, 0, 1, 2, 0, 1, 2], [0, 1, 2, 0, 1, 2, 0, 1, 2]]\n"
          ],
          "name": "stdout"
        }
      ]
    },
    {
      "cell_type": "code",
      "metadata": {
        "id": "3A79AnQ4BUCL",
        "colab_type": "code",
        "colab": {
          "base_uri": "https://localhost:8080/",
          "height": 33
        },
        "outputId": "b5ee3124-6bbd-4d8f-afca-9bbff2fd0bf1"
      },
      "source": [
        " # lista exemplo\n",
        "y=[]\n",
        "for i in range(3):\n",
        "  x=[]\n",
        "  for j in range(3):\n",
        "    x.append(j)\n",
        "  y.append(x)\n",
        "print(y)"
      ],
      "execution_count": 6,
      "outputs": [
        {
          "output_type": "stream",
          "text": [
            "[[0, 1, 2], [0, 1, 2], [0, 1, 2]]\n"
          ],
          "name": "stdout"
        }
      ]
    },
    {
      "cell_type": "code",
      "metadata": {
        "id": "5BZ6zVjqCoEN",
        "colab_type": "code",
        "colab": {
          "base_uri": "https://localhost:8080/",
          "height": 33
        },
        "outputId": "32e955b7-441e-4cf0-bb55-3a0c162b577b"
      },
      "source": [
        "print(y)"
      ],
      "execution_count": 7,
      "outputs": [
        {
          "output_type": "stream",
          "text": [
            "[[0, 1, 2], [0, 1, 2], [0, 1, 2]]\n"
          ],
          "name": "stdout"
        }
      ]
    },
    {
      "cell_type": "code",
      "metadata": {
        "id": "bxkxWd5gDlkf",
        "colab_type": "code",
        "colab": {}
      },
      "source": [
        "import pandas as pd\n",
        "import numpy as np"
      ],
      "execution_count": 8,
      "outputs": []
    },
    {
      "cell_type": "code",
      "metadata": {
        "id": "YDZWYHOeDvU2",
        "colab_type": "code",
        "colab": {
          "base_uri": "https://localhost:8080/",
          "height": 83
        },
        "outputId": "215ffd1c-4adf-4f2b-997c-833da969d539"
      },
      "source": [
        "df=pd.DataFrame(y)\n",
        "print(df)"
      ],
      "execution_count": 9,
      "outputs": [
        {
          "output_type": "stream",
          "text": [
            "   0  1  2\n",
            "0  0  1  2\n",
            "1  0  1  2\n",
            "2  0  1  2\n"
          ],
          "name": "stdout"
        }
      ]
    },
    {
      "cell_type": "code",
      "metadata": {
        "id": "sPFg4m-AEt0m",
        "colab_type": "code",
        "colab": {
          "base_uri": "https://localhost:8080/",
          "height": 66
        },
        "outputId": "21cdac90-a450-4dd3-9085-8613ceb71216"
      },
      "source": [
        "mat=np.array(y)\n",
        "print(mat)"
      ],
      "execution_count": 10,
      "outputs": [
        {
          "output_type": "stream",
          "text": [
            "[[0 1 2]\n",
            " [0 1 2]\n",
            " [0 1 2]]\n"
          ],
          "name": "stdout"
        }
      ]
    },
    {
      "cell_type": "code",
      "metadata": {
        "id": "cIpqO10_FRcw",
        "colab_type": "code",
        "colab": {
          "base_uri": "https://localhost:8080/",
          "height": 66
        },
        "outputId": "2fe63d19-b015-4be4-8b57-c07e9eaf5f4c"
      },
      "source": [
        "mat[0,1]=99\n",
        "print(mat)"
      ],
      "execution_count": 11,
      "outputs": [
        {
          "output_type": "stream",
          "text": [
            "[[ 0 99  2]\n",
            " [ 0  1  2]\n",
            " [ 0  1  2]]\n"
          ],
          "name": "stdout"
        }
      ]
    },
    {
      "cell_type": "code",
      "metadata": {
        "id": "Drm-hW-HFrxR",
        "colab_type": "code",
        "colab": {
          "base_uri": "https://localhost:8080/",
          "height": 33
        },
        "outputId": "d536ae5e-dac8-4d9b-a36e-67b1ef7c6b0e"
      },
      "source": [
        "print(mat[0,:])"
      ],
      "execution_count": 12,
      "outputs": [
        {
          "output_type": "stream",
          "text": [
            "[ 0 99  2]\n"
          ],
          "name": "stdout"
        }
      ]
    },
    {
      "cell_type": "code",
      "metadata": {
        "id": "CVavEtoiF2xD",
        "colab_type": "code",
        "colab": {
          "base_uri": "https://localhost:8080/",
          "height": 33
        },
        "outputId": "d1c058d9-ed76-4ed4-9035-21f3edabeba6"
      },
      "source": [
        "print(mat[:,0])"
      ],
      "execution_count": 13,
      "outputs": [
        {
          "output_type": "stream",
          "text": [
            "[0 0 0]\n"
          ],
          "name": "stdout"
        }
      ]
    },
    {
      "cell_type": "code",
      "metadata": {
        "id": "YBHx9gcYGHP-",
        "colab_type": "code",
        "colab": {}
      },
      "source": [
        "# Recaptulando\n",
        "# 1-tem o formato lista\n",
        "# 2-tem o formato numpy array\n",
        "# 3- tem o formato dataframe\n",
        "# 4- indice começa no zero\n",
        "# 5- tem varias situações que é possível converter formato"
      ],
      "execution_count": 14,
      "outputs": []
    },
    {
      "cell_type": "code",
      "metadata": {
        "id": "FcGrsoZymSHM",
        "colab_type": "code",
        "colab": {
          "base_uri": "https://localhost:8080/",
          "height": 33
        },
        "outputId": "73030d54-862f-4691-9fd3-7a98d32e7467"
      },
      "source": [
        " n=5\n",
        " # lista exemplo\n",
        "y=[]\n",
        "for i in range(n):\n",
        "  x=[]\n",
        "  for j in range(n):\n",
        "    x.append(j)\n",
        "  y.append(x)\n",
        "print(y)"
      ],
      "execution_count": 15,
      "outputs": [
        {
          "output_type": "stream",
          "text": [
            "[[0, 1, 2, 3, 4], [0, 1, 2, 3, 4], [0, 1, 2, 3, 4], [0, 1, 2, 3, 4], [0, 1, 2, 3, 4]]\n"
          ],
          "name": "stdout"
        }
      ]
    },
    {
      "cell_type": "code",
      "metadata": {
        "id": "Yu2nkiKgnpLo",
        "colab_type": "code",
        "colab": {}
      },
      "source": [
        "def Lista(nn):#funcao chamamos ela por def, nn é o que vamos passar para essa funcao\n",
        "  y=[]\n",
        "  for i in range(nn):\n",
        "    x=[]\n",
        "    for j in range(nn):\n",
        "      x.append(j)\n",
        "    y.append(x)\n",
        "  return y "
      ],
      "execution_count": 17,
      "outputs": []
    },
    {
      "cell_type": "code",
      "metadata": {
        "id": "Kp7bUd6Kob7V",
        "colab_type": "code",
        "colab": {
          "base_uri": "https://localhost:8080/",
          "height": 33
        },
        "outputId": "a90cafbe-03a0-4c5d-8ade-b5ad1896e929"
      },
      "source": [
        "w=Lista(6)\n",
        "print(w)"
      ],
      "execution_count": 19,
      "outputs": [
        {
          "output_type": "stream",
          "text": [
            "[[0, 1, 2, 3, 4, 5], [0, 1, 2, 3, 4, 5], [0, 1, 2, 3, 4, 5], [0, 1, 2, 3, 4, 5], [0, 1, 2, 3, 4, 5], [0, 1, 2, 3, 4, 5]]\n"
          ],
          "name": "stdout"
        }
      ]
    },
    {
      "cell_type": "code",
      "metadata": {
        "id": "jZSzLHnRrX-O",
        "colab_type": "code",
        "colab": {}
      },
      "source": [
        "#vamos usar a funcao carregando ela"
      ],
      "execution_count": null,
      "outputs": []
    }
  ]
}