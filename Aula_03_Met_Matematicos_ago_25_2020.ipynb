{
  "nbformat": 4,
  "nbformat_minor": 0,
  "metadata": {
    "colab": {
      "name": "Aula_03_Met_Matematicos_ago_25_2020.ipynb",
      "provenance": [],
      "collapsed_sections": [],
      "include_colab_link": true
    },
    "kernelspec": {
      "name": "python3",
      "display_name": "Python 3"
    }
  },
  "cells": [
    {
      "cell_type": "markdown",
      "metadata": {
        "id": "view-in-github",
        "colab_type": "text"
      },
      "source": [
        "<a href=\"https://colab.research.google.com/github/marquesgabi/Disciplina_Metodos_Numericos_2020/blob/master/Aula_03_Met_Matematicos_ago_25_2020.ipynb\" target=\"_parent\"><img src=\"https://colab.research.google.com/assets/colab-badge.svg\" alt=\"Open In Colab\"/></a>"
      ]
    },
    {
      "cell_type": "code",
      "metadata": {
        "id": "VSK2vifrsSza",
        "colab_type": "code",
        "colab": {
          "base_uri": "https://localhost:8080/",
          "height": 133
        },
        "outputId": "a560d1e7-c612-4b49-9cd0-236096bc536e"
      },
      "source": [
        "!git clone https://github.com/ucfilho/Disciplina_Metodos_Numericos_2020 #clonar do Github\n",
        "%cd Disciplina_Metodos_Numericos_2020"
      ],
      "execution_count": 2,
      "outputs": [
        {
          "output_type": "stream",
          "text": [
            "Cloning into 'Disciplina_Metodos_Numericos_2020'...\n",
            "remote: Enumerating objects: 71, done.\u001b[K\n",
            "remote: Counting objects: 100% (71/71), done.\u001b[K\n",
            "remote: Compressing objects: 100% (69/69), done.\u001b[K\n",
            "remote: Total 71 (delta 37), reused 0 (delta 0), pack-reused 0\u001b[K\n",
            "Unpacking objects: 100% (71/71), done.\n",
            "/content/Disciplina_Metodos_Numericos_2020/Disciplina_Metodos_Numericos_2020\n"
          ],
          "name": "stdout"
        }
      ]
    },
    {
      "cell_type": "code",
      "metadata": {
        "id": "7c-S8gO5s0gv",
        "colab_type": "code",
        "colab": {}
      },
      "source": [
        "#linhas acima para acessar o conteudo da pasta Disciplina_Metodos_Numericos_2020"
      ],
      "execution_count": 3,
      "outputs": []
    },
    {
      "cell_type": "code",
      "metadata": {
        "id": "Qks1T9qwtMZF",
        "colab_type": "code",
        "colab": {}
      },
      "source": [
        "from ListaNN import Lista"
      ],
      "execution_count": 4,
      "outputs": []
    },
    {
      "cell_type": "code",
      "metadata": {
        "id": "soGCpMfAtYy3",
        "colab_type": "code",
        "colab": {
          "base_uri": "https://localhost:8080/",
          "height": 33
        },
        "outputId": "4c011b35-fa85-4c87-84f0-fd40922e04ae"
      },
      "source": [
        "n=4\n",
        "w=Lista(n)\n",
        "print(w)"
      ],
      "execution_count": 5,
      "outputs": [
        {
          "output_type": "stream",
          "text": [
            "[[0, 1, 2, 3], [0, 1, 2, 3], [0, 1, 2, 3], [0, 1, 2, 3]]\n"
          ],
          "name": "stdout"
        }
      ]
    },
    {
      "cell_type": "code",
      "metadata": {
        "id": "Opcp5dr9u5bs",
        "colab_type": "code",
        "colab": {}
      },
      "source": [
        "#diferenca do (for) e do (while). (for) vc sabe quantas vezes vc quer executar ele e (while) ele vai executar ate atingir uma condiçao que colocarmos"
      ],
      "execution_count": null,
      "outputs": []
    },
    {
      "cell_type": "code",
      "metadata": {
        "id": "h3A0CXiuvPzW",
        "colab_type": "code",
        "colab": {
          "base_uri": "https://localhost:8080/",
          "height": 33
        },
        "outputId": "e849ce6d-724b-425a-96db-ac7e69c0f36c"
      },
      "source": [
        "m=4\n",
        "if(m>2):\n",
        "  print('valor maior que 2')\n",
        "else:\n",
        "  print('valor menor ou igual a 2')"
      ],
      "execution_count": 6,
      "outputs": [
        {
          "output_type": "stream",
          "text": [
            "valor maior que 2\n"
          ],
          "name": "stdout"
        }
      ]
    },
    {
      "cell_type": "code",
      "metadata": {
        "id": "8RkmuXFQv5Jq",
        "colab_type": "code",
        "colab": {
          "base_uri": "https://localhost:8080/",
          "height": 33
        },
        "outputId": "77f21fd5-dbcd-4024-c83e-79da900a753e"
      },
      "source": [
        "m=1\n",
        "if(m>2):\n",
        "  print('valor maior que 2')\n",
        "else:\n",
        "  print('valor menor ou igual a 2')"
      ],
      "execution_count": 7,
      "outputs": [
        {
          "output_type": "stream",
          "text": [
            "valor menor ou igual a 2\n"
          ],
          "name": "stdout"
        }
      ]
    },
    {
      "cell_type": "code",
      "metadata": {
        "id": "krgvDCAYwUQE",
        "colab_type": "code",
        "colab": {
          "base_uri": "https://localhost:8080/",
          "height": 33
        },
        "outputId": "d9efc787-077f-486f-e32b-e7b66017ffa5"
      },
      "source": [
        "m=6\n",
        "if(m>7):\n",
        "  print('valor maior que 7')\n",
        "elif(m>5): #vai colocar complementos\n",
        "    print('valor entre 7 e 5')\n",
        "else:\n",
        "  print('valor menor ou igual a 5')"
      ],
      "execution_count": 12,
      "outputs": [
        {
          "output_type": "stream",
          "text": [
            "valor entre 7 e 5\n"
          ],
          "name": "stdout"
        }
      ]
    },
    {
      "cell_type": "code",
      "metadata": {
        "id": "2MgGHBT8xk03",
        "colab_type": "code",
        "colab": {
          "base_uri": "https://localhost:8080/",
          "height": 183
        },
        "outputId": "317d1c2e-c967-460b-eeaa-f0b124ff2657"
      },
      "source": [
        "mm=10\n",
        "cont=0\n",
        "while(cont<mm):\n",
        "  cont=cont+1\n",
        "  print(cont)"
      ],
      "execution_count": 13,
      "outputs": [
        {
          "output_type": "stream",
          "text": [
            "1\n",
            "2\n",
            "3\n",
            "4\n",
            "5\n",
            "6\n",
            "7\n",
            "8\n",
            "9\n",
            "10\n"
          ],
          "name": "stdout"
        }
      ]
    }
  ]
}